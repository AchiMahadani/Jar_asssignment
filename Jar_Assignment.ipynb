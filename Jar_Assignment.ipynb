{
 "cells": [
  {
   "cell_type": "code",
   "execution_count": 44,
   "id": "a183d148",
   "metadata": {},
   "outputs": [],
   "source": [
    "import pandas as pd\n",
    "import matplotlib.pyplot as plt\n",
    "import seaborn as sns\n",
    "%matplotlib inline"
   ]
  },
  {
   "cell_type": "code",
   "execution_count": 45,
   "id": "ee86a8e4",
   "metadata": {},
   "outputs": [],
   "source": [
    "orders = \"List_of_Orders_55FFC79CF8.csv\"\n",
    "order_details = \"Order_Details_19795F61CF.csv\"\n",
    "sales_target = \"Sales_target_DD2E9B96A0.csv\""
   ]
  },
  {
   "cell_type": "code",
   "execution_count": 46,
   "id": "ca7ff50c",
   "metadata": {},
   "outputs": [],
   "source": [
    "orders_df = pd.read_csv(orders)\n",
    "order_details_df = pd.read_csv(order_details)\n",
    "sales_target_df = pd.read_csv(sales_target)"
   ]
  },
  {
   "cell_type": "code",
   "execution_count": 47,
   "id": "c299f5b2",
   "metadata": {},
   "outputs": [
    {
     "data": {
      "text/html": [
       "<div>\n",
       "<style scoped>\n",
       "    .dataframe tbody tr th:only-of-type {\n",
       "        vertical-align: middle;\n",
       "    }\n",
       "\n",
       "    .dataframe tbody tr th {\n",
       "        vertical-align: top;\n",
       "    }\n",
       "\n",
       "    .dataframe thead th {\n",
       "        text-align: right;\n",
       "    }\n",
       "</style>\n",
       "<table border=\"1\" class=\"dataframe\">\n",
       "  <thead>\n",
       "    <tr style=\"text-align: right;\">\n",
       "      <th></th>\n",
       "      <th>Month of Order Date</th>\n",
       "      <th>Category</th>\n",
       "      <th>Target</th>\n",
       "    </tr>\n",
       "  </thead>\n",
       "  <tbody>\n",
       "    <tr>\n",
       "      <th>0</th>\n",
       "      <td>Apr-18</td>\n",
       "      <td>Furniture</td>\n",
       "      <td>10400.0</td>\n",
       "    </tr>\n",
       "    <tr>\n",
       "      <th>1</th>\n",
       "      <td>May-18</td>\n",
       "      <td>Furniture</td>\n",
       "      <td>10500.0</td>\n",
       "    </tr>\n",
       "    <tr>\n",
       "      <th>2</th>\n",
       "      <td>Jun-18</td>\n",
       "      <td>Furniture</td>\n",
       "      <td>10600.0</td>\n",
       "    </tr>\n",
       "    <tr>\n",
       "      <th>3</th>\n",
       "      <td>Jul-18</td>\n",
       "      <td>Furniture</td>\n",
       "      <td>10800.0</td>\n",
       "    </tr>\n",
       "    <tr>\n",
       "      <th>4</th>\n",
       "      <td>Aug-18</td>\n",
       "      <td>Furniture</td>\n",
       "      <td>10900.0</td>\n",
       "    </tr>\n",
       "  </tbody>\n",
       "</table>\n",
       "</div>"
      ],
      "text/plain": [
       "  Month of Order Date   Category   Target\n",
       "0              Apr-18  Furniture  10400.0\n",
       "1              May-18  Furniture  10500.0\n",
       "2              Jun-18  Furniture  10600.0\n",
       "3              Jul-18  Furniture  10800.0\n",
       "4              Aug-18  Furniture  10900.0"
      ]
     },
     "execution_count": 47,
     "metadata": {},
     "output_type": "execute_result"
    }
   ],
   "source": [
    "sales_target_df.head()"
   ]
  },
  {
   "cell_type": "code",
   "execution_count": 48,
   "id": "c346dcae",
   "metadata": {},
   "outputs": [
    {
     "data": {
      "text/html": [
       "<div>\n",
       "<style scoped>\n",
       "    .dataframe tbody tr th:only-of-type {\n",
       "        vertical-align: middle;\n",
       "    }\n",
       "\n",
       "    .dataframe tbody tr th {\n",
       "        vertical-align: top;\n",
       "    }\n",
       "\n",
       "    .dataframe thead th {\n",
       "        text-align: right;\n",
       "    }\n",
       "</style>\n",
       "<table border=\"1\" class=\"dataframe\">\n",
       "  <thead>\n",
       "    <tr style=\"text-align: right;\">\n",
       "      <th></th>\n",
       "      <th>Order ID</th>\n",
       "      <th>Order Date</th>\n",
       "      <th>CustomerName</th>\n",
       "      <th>State</th>\n",
       "      <th>City</th>\n",
       "    </tr>\n",
       "  </thead>\n",
       "  <tbody>\n",
       "    <tr>\n",
       "      <th>0</th>\n",
       "      <td>B-25601</td>\n",
       "      <td>01-04-2018</td>\n",
       "      <td>Bharat</td>\n",
       "      <td>Gujarat</td>\n",
       "      <td>Ahmedabad</td>\n",
       "    </tr>\n",
       "    <tr>\n",
       "      <th>1</th>\n",
       "      <td>B-25602</td>\n",
       "      <td>01-04-2018</td>\n",
       "      <td>Pearl</td>\n",
       "      <td>Maharashtra</td>\n",
       "      <td>Pune</td>\n",
       "    </tr>\n",
       "    <tr>\n",
       "      <th>2</th>\n",
       "      <td>B-25603</td>\n",
       "      <td>03-04-2018</td>\n",
       "      <td>Jahan</td>\n",
       "      <td>Madhya Pradesh</td>\n",
       "      <td>Bhopal</td>\n",
       "    </tr>\n",
       "    <tr>\n",
       "      <th>3</th>\n",
       "      <td>B-25604</td>\n",
       "      <td>03-04-2018</td>\n",
       "      <td>Divsha</td>\n",
       "      <td>Rajasthan</td>\n",
       "      <td>Jaipur</td>\n",
       "    </tr>\n",
       "    <tr>\n",
       "      <th>4</th>\n",
       "      <td>B-25605</td>\n",
       "      <td>05-04-2018</td>\n",
       "      <td>Kasheen</td>\n",
       "      <td>West Bengal</td>\n",
       "      <td>Kolkata</td>\n",
       "    </tr>\n",
       "  </tbody>\n",
       "</table>\n",
       "</div>"
      ],
      "text/plain": [
       "  Order ID  Order Date CustomerName           State       City\n",
       "0  B-25601  01-04-2018       Bharat         Gujarat  Ahmedabad\n",
       "1  B-25602  01-04-2018        Pearl     Maharashtra       Pune\n",
       "2  B-25603  03-04-2018        Jahan  Madhya Pradesh     Bhopal\n",
       "3  B-25604  03-04-2018       Divsha       Rajasthan     Jaipur\n",
       "4  B-25605  05-04-2018      Kasheen     West Bengal    Kolkata"
      ]
     },
     "execution_count": 48,
     "metadata": {},
     "output_type": "execute_result"
    }
   ],
   "source": [
    "orders_df.head()"
   ]
  },
  {
   "cell_type": "code",
   "execution_count": 49,
   "id": "3271a42e",
   "metadata": {},
   "outputs": [
    {
     "data": {
      "text/html": [
       "<div>\n",
       "<style scoped>\n",
       "    .dataframe tbody tr th:only-of-type {\n",
       "        vertical-align: middle;\n",
       "    }\n",
       "\n",
       "    .dataframe tbody tr th {\n",
       "        vertical-align: top;\n",
       "    }\n",
       "\n",
       "    .dataframe thead th {\n",
       "        text-align: right;\n",
       "    }\n",
       "</style>\n",
       "<table border=\"1\" class=\"dataframe\">\n",
       "  <thead>\n",
       "    <tr style=\"text-align: right;\">\n",
       "      <th></th>\n",
       "      <th>Order ID</th>\n",
       "      <th>Amount</th>\n",
       "      <th>Profit</th>\n",
       "      <th>Quantity</th>\n",
       "      <th>Category</th>\n",
       "      <th>Sub-Category</th>\n",
       "    </tr>\n",
       "  </thead>\n",
       "  <tbody>\n",
       "    <tr>\n",
       "      <th>0</th>\n",
       "      <td>B-25601</td>\n",
       "      <td>1275.0</td>\n",
       "      <td>-1148.0</td>\n",
       "      <td>7</td>\n",
       "      <td>Furniture</td>\n",
       "      <td>Bookcases</td>\n",
       "    </tr>\n",
       "    <tr>\n",
       "      <th>1</th>\n",
       "      <td>B-25601</td>\n",
       "      <td>66.0</td>\n",
       "      <td>-12.0</td>\n",
       "      <td>5</td>\n",
       "      <td>Clothing</td>\n",
       "      <td>Stole</td>\n",
       "    </tr>\n",
       "    <tr>\n",
       "      <th>2</th>\n",
       "      <td>B-25601</td>\n",
       "      <td>8.0</td>\n",
       "      <td>-2.0</td>\n",
       "      <td>3</td>\n",
       "      <td>Clothing</td>\n",
       "      <td>Hankerchief</td>\n",
       "    </tr>\n",
       "    <tr>\n",
       "      <th>3</th>\n",
       "      <td>B-25601</td>\n",
       "      <td>80.0</td>\n",
       "      <td>-56.0</td>\n",
       "      <td>4</td>\n",
       "      <td>Electronics</td>\n",
       "      <td>Electronic Games</td>\n",
       "    </tr>\n",
       "    <tr>\n",
       "      <th>4</th>\n",
       "      <td>B-25602</td>\n",
       "      <td>168.0</td>\n",
       "      <td>-111.0</td>\n",
       "      <td>2</td>\n",
       "      <td>Electronics</td>\n",
       "      <td>Phones</td>\n",
       "    </tr>\n",
       "  </tbody>\n",
       "</table>\n",
       "</div>"
      ],
      "text/plain": [
       "  Order ID  Amount  Profit  Quantity     Category      Sub-Category\n",
       "0  B-25601  1275.0 -1148.0         7    Furniture         Bookcases\n",
       "1  B-25601    66.0   -12.0         5     Clothing             Stole\n",
       "2  B-25601     8.0    -2.0         3     Clothing       Hankerchief\n",
       "3  B-25601    80.0   -56.0         4  Electronics  Electronic Games\n",
       "4  B-25602   168.0  -111.0         2  Electronics            Phones"
      ]
     },
     "execution_count": 49,
     "metadata": {},
     "output_type": "execute_result"
    }
   ],
   "source": [
    "order_details_df.head()"
   ]
  },
  {
   "cell_type": "code",
   "execution_count": 50,
   "id": "a32ff60c",
   "metadata": {},
   "outputs": [],
   "source": [
    "merge_df = pd.merge(order_details_df, orders_df, on=\"Order ID\")"
   ]
  },
  {
   "cell_type": "markdown",
   "id": "fce20070",
   "metadata": {},
   "source": [
    "## Merge the List of Orders and Order Details datasets on the basis of Order ID."
   ]
  },
  {
   "cell_type": "code",
   "execution_count": 51,
   "id": "17261745",
   "metadata": {},
   "outputs": [
    {
     "data": {
      "text/html": [
       "<div>\n",
       "<style scoped>\n",
       "    .dataframe tbody tr th:only-of-type {\n",
       "        vertical-align: middle;\n",
       "    }\n",
       "\n",
       "    .dataframe tbody tr th {\n",
       "        vertical-align: top;\n",
       "    }\n",
       "\n",
       "    .dataframe thead th {\n",
       "        text-align: right;\n",
       "    }\n",
       "</style>\n",
       "<table border=\"1\" class=\"dataframe\">\n",
       "  <thead>\n",
       "    <tr style=\"text-align: right;\">\n",
       "      <th></th>\n",
       "      <th>Order ID</th>\n",
       "      <th>Amount</th>\n",
       "      <th>Profit</th>\n",
       "      <th>Quantity</th>\n",
       "      <th>Category</th>\n",
       "      <th>Sub-Category</th>\n",
       "      <th>Order Date</th>\n",
       "      <th>CustomerName</th>\n",
       "      <th>State</th>\n",
       "      <th>City</th>\n",
       "    </tr>\n",
       "  </thead>\n",
       "  <tbody>\n",
       "    <tr>\n",
       "      <th>0</th>\n",
       "      <td>B-25601</td>\n",
       "      <td>1275.0</td>\n",
       "      <td>-1148.0</td>\n",
       "      <td>7</td>\n",
       "      <td>Furniture</td>\n",
       "      <td>Bookcases</td>\n",
       "      <td>01-04-2018</td>\n",
       "      <td>Bharat</td>\n",
       "      <td>Gujarat</td>\n",
       "      <td>Ahmedabad</td>\n",
       "    </tr>\n",
       "    <tr>\n",
       "      <th>1</th>\n",
       "      <td>B-25601</td>\n",
       "      <td>66.0</td>\n",
       "      <td>-12.0</td>\n",
       "      <td>5</td>\n",
       "      <td>Clothing</td>\n",
       "      <td>Stole</td>\n",
       "      <td>01-04-2018</td>\n",
       "      <td>Bharat</td>\n",
       "      <td>Gujarat</td>\n",
       "      <td>Ahmedabad</td>\n",
       "    </tr>\n",
       "    <tr>\n",
       "      <th>2</th>\n",
       "      <td>B-25601</td>\n",
       "      <td>8.0</td>\n",
       "      <td>-2.0</td>\n",
       "      <td>3</td>\n",
       "      <td>Clothing</td>\n",
       "      <td>Hankerchief</td>\n",
       "      <td>01-04-2018</td>\n",
       "      <td>Bharat</td>\n",
       "      <td>Gujarat</td>\n",
       "      <td>Ahmedabad</td>\n",
       "    </tr>\n",
       "    <tr>\n",
       "      <th>3</th>\n",
       "      <td>B-25601</td>\n",
       "      <td>80.0</td>\n",
       "      <td>-56.0</td>\n",
       "      <td>4</td>\n",
       "      <td>Electronics</td>\n",
       "      <td>Electronic Games</td>\n",
       "      <td>01-04-2018</td>\n",
       "      <td>Bharat</td>\n",
       "      <td>Gujarat</td>\n",
       "      <td>Ahmedabad</td>\n",
       "    </tr>\n",
       "    <tr>\n",
       "      <th>4</th>\n",
       "      <td>B-25602</td>\n",
       "      <td>168.0</td>\n",
       "      <td>-111.0</td>\n",
       "      <td>2</td>\n",
       "      <td>Electronics</td>\n",
       "      <td>Phones</td>\n",
       "      <td>01-04-2018</td>\n",
       "      <td>Pearl</td>\n",
       "      <td>Maharashtra</td>\n",
       "      <td>Pune</td>\n",
       "    </tr>\n",
       "  </tbody>\n",
       "</table>\n",
       "</div>"
      ],
      "text/plain": [
       "  Order ID  Amount  Profit  Quantity     Category      Sub-Category  \\\n",
       "0  B-25601  1275.0 -1148.0         7    Furniture         Bookcases   \n",
       "1  B-25601    66.0   -12.0         5     Clothing             Stole   \n",
       "2  B-25601     8.0    -2.0         3     Clothing       Hankerchief   \n",
       "3  B-25601    80.0   -56.0         4  Electronics  Electronic Games   \n",
       "4  B-25602   168.0  -111.0         2  Electronics            Phones   \n",
       "\n",
       "   Order Date CustomerName        State       City  \n",
       "0  01-04-2018       Bharat      Gujarat  Ahmedabad  \n",
       "1  01-04-2018       Bharat      Gujarat  Ahmedabad  \n",
       "2  01-04-2018       Bharat      Gujarat  Ahmedabad  \n",
       "3  01-04-2018       Bharat      Gujarat  Ahmedabad  \n",
       "4  01-04-2018        Pearl  Maharashtra       Pune  "
      ]
     },
     "execution_count": 51,
     "metadata": {},
     "output_type": "execute_result"
    }
   ],
   "source": [
    "merge_df.head()"
   ]
  },
  {
   "cell_type": "markdown",
   "id": "814ea9ea",
   "metadata": {},
   "source": [
    "# Part 1: Sales and Profitability Analysis"
   ]
  },
  {
   "cell_type": "markdown",
   "id": "55701308",
   "metadata": {},
   "source": [
    "### Calculate the total sales (Amount) for each category across all orders."
   ]
  },
  {
   "cell_type": "code",
   "execution_count": 52,
   "id": "d131a1d0",
   "metadata": {},
   "outputs": [],
   "source": [
    "cat_sales = merge_df.groupby(\"Category\").agg(total_sales=(\"Amount\", \"sum\"),\n",
    "    total_Profit=(\"Profit\", \"sum\"),\n",
    "    Avg_Profit_per_Order=(\"Profit\", \"mean\")).reset_index()"
   ]
  },
  {
   "cell_type": "code",
   "execution_count": 53,
   "id": "17f27a78",
   "metadata": {},
   "outputs": [
    {
     "name": "stdout",
     "output_type": "stream",
     "text": [
      "total sales (Amount) for each Category:\n",
      "       Category  total_sales\n",
      "0     Clothing     139054.0\n",
      "1  Electronics     165267.0\n",
      "2    Furniture     127181.0\n"
     ]
    }
   ],
   "source": [
    "print(\"total sales (Amount) for each Category:\\n\", cat_sales[[\"Category\", \"total_sales\"]])"
   ]
  },
  {
   "cell_type": "markdown",
   "id": "5a06ae87",
   "metadata": {},
   "source": [
    "###  Calculate Profit Margin\n"
   ]
  },
  {
   "cell_type": "code",
   "execution_count": 54,
   "id": "3e0be569",
   "metadata": {},
   "outputs": [],
   "source": [
    "cat_sales[\"Profit_Margin\"] = (cat_sales[\"total_Profit\"] / cat_sales[\"total_sales\"]) * 100"
   ]
  },
  {
   "cell_type": "markdown",
   "id": "ce0520cd",
   "metadata": {},
   "source": [
    "### Identify the top-performing and underperforming categories based on these metrics.\n",
    "### Also, suggest reasons for their performance differences."
   ]
  },
  {
   "cell_type": "code",
   "execution_count": 55,
   "id": "12a72e76",
   "metadata": {},
   "outputs": [],
   "source": [
    "top_categories = cat_sales.sort_values(by=\"total_sales\", ascending=False)\n",
    "underperforming_categories = cat_sales.sort_values(by=\"Profit_Margin\")"
   ]
  },
  {
   "cell_type": "code",
   "execution_count": 56,
   "id": "566175a2",
   "metadata": {},
   "outputs": [
    {
     "name": "stdout",
     "output_type": "stream",
     "text": [
      "\n",
      "Top-Performing Categories:\n",
      "       Category  total_sales  total_Profit  Avg_Profit_per_Order  Profit_Margin\n",
      "1  Electronics     165267.0       10494.0             34.071429       6.349725\n",
      "0     Clothing     139054.0       11163.0             11.762908       8.027817\n",
      "2    Furniture     127181.0        2298.0              9.456790       1.806874\n",
      "\n",
      "Underperforming Categories:\n",
      "       Category  total_sales  total_Profit  Avg_Profit_per_Order  Profit_Margin\n",
      "2    Furniture     127181.0        2298.0              9.456790       1.806874\n",
      "1  Electronics     165267.0       10494.0             34.071429       6.349725\n",
      "0     Clothing     139054.0       11163.0             11.762908       8.027817\n"
     ]
    }
   ],
   "source": [
    "print(\"\\nTop-Performing Categories:\\n\", top_categories)\n",
    "\n",
    "print(\"\\nUnderperforming Categories:\\n\", underperforming_categories)"
   ]
  },
  {
   "cell_type": "code",
   "execution_count": 57,
   "id": "af5beca2",
   "metadata": {},
   "outputs": [
    {
     "data": {
      "image/png": "[encoded data removed]",
      "text/plain": [
       "<Figure size 1000x500 with 1 Axes>"
      ]
     },
     "metadata": {},
     "output_type": "display_data"
    }
   ],
   "source": [
    "plt.figure(figsize=(10,5))\n",
    "plt.bar(cat_sales[\"Category\"], cat_sales[\"total_sales\"], color='skyblue')\n",
    "plt.xlabel(\"Category\")\n",
    "plt.ylabel(\"total sales\")\n",
    "plt.title(\"total sales by Category\")\n",
    "plt.xticks(rotation=45)\n",
    "plt.show()"
   ]
  },
  {
   "cell_type": "markdown",
   "id": "0b8a0671",
   "metadata": {},
   "source": [
    "# Insights from this analysis:\n"
   ]
  },
  {
   "cell_type": "markdown",
   "id": "f9d34034",
   "metadata": {},
   "source": [
    " 1. **Furniture has high sales but poor profit**.\n",
    " 2. **Clothing** got the highest profit margin.\n",
    " 3. **Electronics** has the highest total sales but moderate profitability."
   ]
  },
  {
   "cell_type": "markdown",
   "id": "67919eef",
   "metadata": {},
   "source": [
    "# Part 2: Target Achievement Analysis"
   ]
  },
  {
   "cell_type": "code",
   "execution_count": 58,
   "id": "1f1b1d19",
   "metadata": {},
   "outputs": [],
   "source": [
    "furniture_target_df = sales_target_df[sales_target_df[\"Category\"] == \"Furniture\"].copy()"
   ]
  },
  {
   "cell_type": "code",
   "execution_count": 59,
   "id": "1c1af347",
   "metadata": {},
   "outputs": [],
   "source": [
    "furniture_target_df[\"Month of Order Date\"] = pd.to_datetime(furniture_target_df[\"Month of Order Date\"], format=\"%b-%y\")\n"
   ]
  },
  {
   "cell_type": "code",
   "execution_count": 60,
   "id": "ab1a1069",
   "metadata": {},
   "outputs": [],
   "source": [
    "furniture_target_df = furniture_target_df.sort_values(by=\"Month of Order Date\")"
   ]
  },
  {
   "cell_type": "code",
   "execution_count": 61,
   "id": "e9d8ff05",
   "metadata": {},
   "outputs": [],
   "source": [
    "furniture_target_df[\"Target_Perc_Change\"] = furniture_target_df[\"Target\"].pct_change() * 100"
   ]
  },
  {
   "cell_type": "code",
   "execution_count": 62,
   "id": "6513d3d0",
   "metadata": {},
   "outputs": [
    {
     "name": "stdout",
     "output_type": "stream",
     "text": [
      "Month-over-Month Percentage Change in Target Sales (Furniture):\n",
      "    Month of Order Date  Target_Perc_Change\n",
      "0           2018-04-01                 NaN\n",
      "1           2018-05-01            0.961538\n",
      "2           2018-06-01            0.952381\n",
      "3           2018-07-01            1.886792\n",
      "4           2018-08-01            0.925926\n",
      "5           2018-09-01            0.917431\n",
      "6           2018-10-01            0.909091\n",
      "7           2018-11-01            1.801802\n",
      "8           2018-12-01            0.884956\n",
      "9           2019-01-01            0.877193\n",
      "10          2019-02-01            0.869565\n",
      "11          2019-03-01            1.724138\n"
     ]
    }
   ],
   "source": [
    "print(\"Month-over-Month Percentage Change in Target Sales (Furniture):\\n\",\n",
    "      furniture_target_df[[\"Month of Order Date\", \"Target_Perc_Change\"]])"
   ]
  },
  {
   "cell_type": "code",
   "execution_count": 63,
   "id": "46d5e967",
   "metadata": {},
   "outputs": [
    {
     "data": {
      "text/plain": [
       "[<matplotlib.lines.Line2D at 0x20191305600>]"
      ]
     },
     "execution_count": 63,
     "metadata": {},
     "output_type": "execute_result"
    },
    {
     "data": {
      "image/png": "[encoded data removed]",
      "text/plain": [
       "<Figure size 1000x500 with 1 Axes>"
      ]
     },
     "metadata": {},
     "output_type": "display_data"
    }
   ],
   "source": [
    "plt.figure(figsize=(10, 5))\n",
    "plt.plot(furniture_target_df[\"Month of Order Date\"], furniture_target_df[\"Target_Perc_Change\"], marker='o', linestyle='-', color='b')"
   ]
  },
  {
   "cell_type": "code",
   "execution_count": 64,
   "id": "a8549a62",
   "metadata": {},
   "outputs": [
    {
     "data": {
      "image/png": "[encoded data removed]",
      "text/plain": [
       "<Figure size 640x480 with 1 Axes>"
      ]
     },
     "metadata": {},
     "output_type": "display_data"
    }
   ],
   "source": [
    "plt.xlabel(\"Month\")\n",
    "plt.ylabel(\"Percentage Change in Target Sales (%)\")\n",
    "plt.title(\"Month-over-Month Percentage Change in Target Sales (Furniture)\")\n",
    "plt.xticks(rotation=45)\n",
    "plt.grid(True)\n",
    "plt.show()"
   ]
  },
  {
   "cell_type": "markdown",
   "id": "416de3fe",
   "metadata": {},
   "source": [
    "## Insights from this Analysis:"
   ]
  },
  {
   "cell_type": "markdown",
   "id": "1be33abb",
   "metadata": {},
   "source": [
    "**July 2018** & **March 2019 Spikes** – These may indicate seasonal demand, promotions, or may be changes in business strategy.\n",
    "\n",
    "## Suggestions:\n",
    "**need to identify external factors (seasonality, promotions) influencing fluctuations.**"
   ]
  },
  {
   "cell_type": "markdown",
   "id": "16840672",
   "metadata": {},
   "source": [
    "# Part 3: Regional Performance Insights"
   ]
  },
  {
   "cell_type": "markdown",
   "id": "8f00f001",
   "metadata": {},
   "source": [
    "### Identify the top 5 states with the highest order count"
   ]
  },
  {
   "cell_type": "code",
   "execution_count": 65,
   "id": "51916ce1",
   "metadata": {},
   "outputs": [],
   "source": [
    "top_states = merge_df[\"State\"].value_counts().head(5).index"
   ]
  },
  {
   "cell_type": "code",
   "execution_count": 66,
   "id": "140245f3",
   "metadata": {},
   "outputs": [],
   "source": [
    "top_states_df = merge_df[merge_df[\"State\"].isin(top_states)]"
   ]
  },
  {
   "cell_type": "code",
   "execution_count": 67,
   "id": "3ea6fb46",
   "metadata": {},
   "outputs": [],
   "source": [
    "regional_performance = top_states_df.groupby(\"State\").agg(total_sales=(\"Amount\", \"sum\"),Avg_Profit=(\"Profit\", \"mean\"),\n",
    "    Order_Count=(\"Order ID\", \"count\")).reset_index()"
   ]
  },
  {
   "cell_type": "code",
   "execution_count": 68,
   "id": "1b6cfb7a",
   "metadata": {},
   "outputs": [
    {
     "name": "stdout",
     "output_type": "stream",
     "text": [
      "            State  total_sales  Avg_Profit  Order_Count\n",
      "0           Delhi      22531.0   40.364865           74\n",
      "1         Gujarat      21058.0    5.344828           87\n",
      "2  Madhya Pradesh     105140.0   16.326471          340\n",
      "3     Maharashtra      95348.0   21.296552          290\n",
      "4       Rajasthan      21149.0   16.986486           74\n"
     ]
    }
   ],
   "source": [
    "print(regional_performance)"
   ]
  },
  {
   "cell_type": "code",
   "execution_count": 72,
   "id": "9eb295d6",
   "metadata": {},
   "outputs": [
    {
     "data": {
      "text/plain": [
       "<Figure size 1200x500 with 0 Axes>"
      ]
     },
     "execution_count": 72,
     "metadata": {},
     "output_type": "execute_result"
    },
    {
     "data": {
      "text/plain": [
       "<Figure size 1200x500 with 0 Axes>"
      ]
     },
     "metadata": {},
     "output_type": "display_data"
    }
   ],
   "source": [
    "plt.figure(figsize=(12, 5))"
   ]
  },
  {
   "cell_type": "code",
   "execution_count": 74,
   "id": "c94b3af9",
   "metadata": {},
   "outputs": [
    {
     "data": {
      "text/plain": [
       "(array([0, 1, 2, 3, 4]),\n",
       " [Text(0, 0, 'Delhi'),\n",
       "  Text(1, 0, 'Gujarat'),\n",
       "  Text(2, 0, 'Madhya Pradesh'),\n",
       "  Text(3, 0, 'Maharashtra'),\n",
       "  Text(4, 0, 'Rajasthan')])"
      ]
     },
     "execution_count": 74,
     "metadata": {},
     "output_type": "execute_result"
    },
    {
     "data": {
      "image/png": "[encoded data removed]",
      "text/plain": [
       "<Figure size 640x480 with 1 Axes>"
      ]
     },
     "metadata": {},
     "output_type": "display_data"
    }
   ],
   "source": [
    "plt.subplot(1, 2, 1)\n",
    "sns.barplot(x=\"State\", y=\"total_sales\", data=regional_performance, palette=\"Blues\")\n",
    "plt.title(\"Total Sales by State\")\n",
    "plt.xlabel(\"State\")\n",
    "plt.ylabel(\"Total Sales\")\n",
    "plt.xticks(rotation=45)"
   ]
  },
  {
   "cell_type": "code",
   "execution_count": 77,
   "id": "47848b0e",
   "metadata": {},
   "outputs": [
    {
     "data": {
      "image/png": "[encoded data removed]",
      "text/plain": [
       "<Figure size 640x480 with 1 Axes>"
      ]
     },
     "metadata": {},
     "output_type": "display_data"
    }
   ],
   "source": [
    "plt.subplot(1, 2, 2)\n",
    "sns.barplot(x=\"State\", y=\"Avg_Profit\", data=regional_performance, palette=\"Greens\")\n",
    "plt.title(\"Average Profit by State\")\n",
    "plt.xlabel(\"State\")\n",
    "plt.ylabel(\"Average Profit\")\n",
    "plt.xticks(rotation=45)\n",
    "\n",
    "\n",
    "plt.tight_layout()\n",
    "plt.show()"
   ]
  },
  {
   "cell_type": "markdown",
   "id": "28ed7d38",
   "metadata": {},
   "source": [
    "## Insights :\n",
    "\n",
    "1> **Madhya Pradesh** and **Maharashtra** have the highest sales and order count, but Maharashtra's profit per order is slightly better.\n",
    "\n",
    "2> **Gujarat** shows low average profit (₹5.3) despite a good number of orders, indicating high costs or discounts.\n",
    "\n",
    "3> **Delhi** has the highest average profit per order (₹40.3) but lower total sales, meaning it sells premium or high-margin products."
   ]
  },
  {
   "cell_type": "markdown",
   "id": "b9f9b21e",
   "metadata": {},
   "source": [
    "# App Exploration:\n",
    "\n",
    "### Explore the features and user experience of the Jar app. Highlight five things you found particularly effective and user-friendly. Additionally, identify five areas where improvements could be made, providing your reasoning for each suggestion."
   ]
  },
  {
   "cell_type": "markdown",
   "id": "e455eb7b",
   "metadata": {},
   "source": [
    "**So, basically Jar app is a fintech platform which is designed for helping users to make a habit of saving by investing small\n",
    "amount in digital gold. \n",
    "\n",
    "**Talking about effective features : \n",
    "    so , Jar automaically rounds up which is nearest to $10  or  $5  investing the spare change into the digital gold. So this \n",
    "    approach encourages consistent savings without requiring active uers intervention.\n",
    "    \n",
    "    **Users can start their investing with a small amount of money $10 ,which is accessible for small , individual financial\n",
    "   **backgrounds to start their savings journey.\n",
    "    \n",
    "    User friendly Interface which is good and smooth experience even for those who has not well versed in technology.\n",
    "    \n",
    "    \n",
    " **Now , lets talk about some areas for Improvement :\n",
    "\n",
    "There are some users who faced difficulties with withdrawing money and contacting customer support.\n",
    "\n",
    "Jar should focus on wide range of avenues like mutual funds or fixed deposits could cater to users seeking diversified \n",
    "portfolios.\n",
    "\n",
    "While the app simplifies investing in digital gold, offering educational content about investment strategies and financial \n",
    "planning could empower the users to make more informed decisions .**\n",
    "    "
   ]
  },
  {
   "cell_type": "markdown",
   "id": "96cd069e",
   "metadata": {},
   "source": [
    "## Question 3: (10 marks)\n",
    "Product Exploration:\n",
    "The Jar app provides users with an innovative way to save and invest in digital gold,\n",
    "starting with as little as ₹10. It automates savings and investments, making financial\n",
    "planning seamless and accessible. As the first Made-in-India app to pioneer such a\n",
    "solution, Jar has successfully created a niche in automated savings and investment.\n",
    "Building on its strong foundation and leveraging its existing user base and trust, what\n",
    "are some new business opportunities Jar could venture into, to expand its offerings and\n",
    "enhance user engagement? Discuss how the app can utilize its strengths, such as\n",
    "automation, a user-friendly design, and established credibility, to seamlessly integrate\n",
    "these new services, deepen its value proposition, and achieve significant milestones in\n",
    "the financial ecosystem."
   ]
  },
  {
   "cell_type": "code",
   "execution_count": null,
   "id": "f3300ba1",
   "metadata": {},
   "outputs": [],
   "source": [
    "** Jar has already established successfully itself as a trusted and user friendly using savings and investment platform.\n",
    "To expand this , the app should leverage its automation capabilities, simple interface , easy to understand and credibility to \n",
    "introduce new financial services.\n",
    "There are some opportunities which is completely align with its strengths.\n",
    "\n",
    "1. Instant Micro loan and buy now , pay later :  Its leveraging users savings and transaction to offer small , interest free \n",
    "    loan services.\n",
    "    \n",
    "2. Jar should introduce Customised savings plans where users can set finanicial goals like Travel, Education , Emergency funds .\n",
    "\n",
    "3. Jar offers Micro insurance plans for health, accident or life insurance that users can pay small daily installments or \n",
    "monthly installments.\n"
   ]
  }
 ],
 "metadata": {
  "kernelspec": {
   "display_name": "Python 3 (ipykernel)",
   "language": "python",
   "name": "python3"
  },
  "language_info": {
   "codemirror_mode": {
    "name": "ipython",
    "version": 3
   },
   "file_extension": ".py",
   "mimetype": "text/x-python",
   "name": "python",
   "nbconvert_exporter": "python",
   "pygments_lexer": "ipython3",
   "version": "3.10.9"
  }
 },
 "nbformat": 4,
 "nbformat_minor": 5
}
